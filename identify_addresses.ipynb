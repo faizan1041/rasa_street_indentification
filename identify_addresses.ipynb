{
 "cells": [
  {
   "cell_type": "code",
   "execution_count": 6,
   "metadata": {},
   "outputs": [],
   "source": [
    "from rasa_nlu.converters import load_data\n",
    "from rasa_nlu.config import RasaNLUConfig\n",
    "from rasa_nlu.model import Trainer\n",
    "from rasa_nlu.model import Metadata, Interpreter"
   ]
  },
  {
   "cell_type": "code",
   "execution_count": 7,
   "metadata": {},
   "outputs": [],
   "source": [
    "def train(data, config, model_dir):\n",
    "    training_data = load_data(data)\n",
    "    trainer = Trainer(RasaNLUConfig(config))\n",
    "    trainer.train(training_data)\n",
    "    model_directory = trainer.persist(model_dir, fixed_model_name = 'street_addresses_nlu')\n",
    "\n",
    "def run(example):\n",
    "    interpreter = Interpreter.load('./models/nlu/default/street_addresses_nlu', RasaNLUConfig('config_spacy.json'))\n",
    "    print(interpreter.parse(example))"
   ]
  },
  {
   "cell_type": "code",
   "execution_count": 8,
   "metadata": {},
   "outputs": [],
   "source": [
    "train('./data/data.json', 'config_spacy.json', './models/nlu')"
   ]
  },
  {
   "cell_type": "code",
   "execution_count": null,
   "metadata": {},
   "outputs": [
    {
     "name": "stdout",
     "output_type": "stream",
     "text": [
      "{'intent': None, 'entities': [{'start': 10, 'end': 41, 'value': 'union square 23, san francisco.', 'entity': 'STREET_NAME', 'extractor': 'ner_crf'}], 'intent_ranking': [], 'text': 'I live in Union Square 23, San Francisco.'}\n"
     ]
    }
   ],
   "source": [
    "run('I live in Union Square 23, San Francisco.')"
   ]
  },
  {
   "cell_type": "code",
   "execution_count": null,
   "metadata": {},
   "outputs": [
    {
     "name": "stdout",
     "output_type": "stream",
     "text": [
      "{'intent': None, 'entities': [{'start': 10, 'end': 30, 'value': 'qasimabad, hyderabad', 'entity': 'STREET_NAME', 'extractor': 'ner_crf'}], 'intent_ranking': [], 'text': 'I live in Qasimabad, Hyderabad'}\n"
     ]
    }
   ],
   "source": [
    "run('I live in Qasimabad, Hyderabad')"
   ]
  },
  {
   "cell_type": "code",
   "execution_count": null,
   "metadata": {},
   "outputs": [],
   "source": []
  }
 ],
 "metadata": {
  "kernelspec": {
   "display_name": "rasa",
   "language": "python",
   "name": "rasa"
  },
  "language_info": {
   "codemirror_mode": {
    "name": "ipython",
    "version": 3
   },
   "file_extension": ".py",
   "mimetype": "text/x-python",
   "name": "python",
   "nbconvert_exporter": "python",
   "pygments_lexer": "ipython3",
   "version": "3.6.5"
  }
 },
 "nbformat": 4,
 "nbformat_minor": 2
}
